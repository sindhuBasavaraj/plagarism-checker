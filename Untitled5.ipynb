{
 "cells": [
  {
   "cell_type": "code",
   "execution_count": 1,
   "id": "744bc06f",
   "metadata": {},
   "outputs": [],
   "source": [
    "\n",
    "import string\n",
    "from collections import Counter"
   ]
  },
  {
   "cell_type": "code",
   "execution_count": 2,
   "id": "3c07ce75",
   "metadata": {},
   "outputs": [],
   "source": [
    "def preprocess_text(text):\n",
    "    # Remove punctuation\n",
    "    text = text.translate(str.maketrans('', '', string.punctuation))\n",
    "    # Convert text to lowercase\n",
    "    text = text.lower()\n",
    "    # Split the text into individual words\n",
    "    words = text.split()\n",
    "    return words"
   ]
  },
  {
   "cell_type": "code",
   "execution_count": 3,
   "id": "32d63bc5",
   "metadata": {},
   "outputs": [],
   "source": [
    "def calculate_similarity_score(text1, text2):\n",
    "    words1 = preprocess_text(text1)\n",
    "    words2 = preprocess_text(text2)\n",
    "    \n",
    "    # Calculate word frequencies\n",
    "    word_freq1 = Counter(words1)\n",
    "    word_freq2 = Counter(words2)\n",
    "    \n",
    "    # Calculate the cosine similarity score\n",
    "    intersection = set(word_freq1.keys()) & set(word_freq2.keys())\n",
    "    \n",
    "    numerator = sum([word_freq1[word] * word_freq2[word] for word in intersection])\n",
    "    \n",
    "    sum_sq1 = sum([word_freq1[word]**2 for word in words1])\n",
    "    sum_sq2 = sum([word_freq2[word]**2 for word in words2])\n",
    "    \n",
    "    denominator = (sum_sq1**0.5) * (sum_sq2**0.5)\n",
    "    \n",
    "    if denominator == 0:\n",
    "        return 0\n",
    "    else:\n",
    "        return round(numerator / float(denominator), 2)"
   ]
  },
  {
   "cell_type": "code",
   "execution_count": 4,
   "id": "3275ca64",
   "metadata": {},
   "outputs": [
    {
     "name": "stdout",
     "output_type": "stream",
     "text": [
      "Enter the first text: my name is sindhu\n",
      "Enter the second text: my name is sindhu\n",
      "Similarity score: 1.0\n",
      "The texts are highly similar.\n"
     ]
    }
   ],
   "source": [
    "def plagiarism_checker():\n",
    "    text1 = input(\"Enter the first text: \")\n",
    "    text2 = input(\"Enter the second text: \")\n",
    "    \n",
    "    similarity_score = calculate_similarity_score(text1, text2)\n",
    "    print(f\"Similarity score: {similarity_score}\")\n",
    "    \n",
    "    if similarity_score >= 0.8:\n",
    "        print(\"The texts are highly similar.\")\n",
    "    elif similarity_score >= 0.6:\n",
    "        print(\"The texts are moderately similar.\")\n",
    "    else:\n",
    "        print(\"The texts are not similar.\")\n",
    "\n",
    "plagiarism_checker()\n"
   ]
  },
  {
   "cell_type": "code",
   "execution_count": null,
   "id": "dffa8ed6",
   "metadata": {},
   "outputs": [],
   "source": []
  }
 ],
 "metadata": {
  "kernelspec": {
   "display_name": "Python 3 (ipykernel)",
   "language": "python",
   "name": "python3"
  },
  "language_info": {
   "codemirror_mode": {
    "name": "ipython",
    "version": 3
   },
   "file_extension": ".py",
   "mimetype": "text/x-python",
   "name": "python",
   "nbconvert_exporter": "python",
   "pygments_lexer": "ipython3",
   "version": "3.11.4"
  }
 },
 "nbformat": 4,
 "nbformat_minor": 5
}
